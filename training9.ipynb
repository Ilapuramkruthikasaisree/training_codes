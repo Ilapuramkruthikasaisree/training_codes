{
 "cells": [
  {
   "cell_type": "code",
   "execution_count": 38,
   "id": "a387df04-1a99-4393-80bb-be3a3db7fd1d",
   "metadata": {},
   "outputs": [
    {
     "data": {
      "text/plain": [
       "[4, 6, 2, 8, 9]"
      ]
     },
     "execution_count": 38,
     "metadata": {},
     "output_type": "execute_result"
    }
   ],
   "source": [
    "#numpy is used for the matrix calculations and the concept of array\n",
    "import numpy as np\n",
    "j=[4,6,2,8,9]\n",
    "j"
   ]
  },
  {
   "cell_type": "code",
   "execution_count": null,
   "id": "d584bc90-a554-4011-85e8-bc2f6b50c46e",
   "metadata": {},
   "outputs": [],
   "source": [
    "1) numpy                      array operations\n",
    "2) pandas                     data manipulation and analysis\n",
    "3) matplotlib and seaborn     graphical analysis\n",
    "4) sklearn                    machine learning algorithms and techniques\n",
    "5) statsmodels                statistical analysis\n",
    "6) scipy                      statistical analysis"
   ]
  },
  {
   "cell_type": "code",
   "execution_count": 134,
   "id": "0e076620-faca-41e7-b37f-f6ff6960610f",
   "metadata": {},
   "outputs": [
    {
     "data": {
      "text/plain": [
       "[2, 5, 4, 2, 1, 3]"
      ]
     },
     "execution_count": 134,
     "metadata": {},
     "output_type": "execute_result"
    }
   ],
   "source": [
    "j=[2,5,4,2,1,3]\n",
    "j"
   ]
  },
  {
   "cell_type": "code",
   "execution_count": 136,
   "id": "81c2a296-e416-4ed0-8525-2695b4947f07",
   "metadata": {},
   "outputs": [
    {
     "data": {
      "text/plain": [
       "array([2, 5, 4, 2, 1, 3])"
      ]
     },
     "execution_count": 136,
     "metadata": {},
     "output_type": "execute_result"
    }
   ],
   "source": [
    "d=np.array(j)\n",
    "d"
   ]
  },
  {
   "cell_type": "code",
   "execution_count": 10,
   "id": "853516fd-a3d7-447c-b93b-a27212c69ab8",
   "metadata": {},
   "outputs": [
    {
     "data": {
      "text/plain": [
       "(2, 5, 4, 2, 1, 3, 7)"
      ]
     },
     "execution_count": 10,
     "metadata": {},
     "output_type": "execute_result"
    }
   ],
   "source": [
    "tuple(j)"
   ]
  },
  {
   "cell_type": "code",
   "execution_count": 24,
   "id": "8646b1e0-f7be-4a24-a8b2-aae0c1c30a55",
   "metadata": {},
   "outputs": [
    {
     "data": {
      "text/plain": [
       "numpy.ndarray"
      ]
     },
     "execution_count": 24,
     "metadata": {},
     "output_type": "execute_result"
    }
   ],
   "source": [
    "type(d)"
   ]
  },
  {
   "cell_type": "code",
   "execution_count": 26,
   "id": "7f65ec50-0355-4c4d-8c8f-f7bedbc2b51c",
   "metadata": {},
   "outputs": [
    {
     "data": {
      "text/plain": [
       "array([2, 5, 4, 2, 1, 3, 7])"
      ]
     },
     "execution_count": 26,
     "metadata": {},
     "output_type": "execute_result"
    }
   ],
   "source": [
    "d"
   ]
  },
  {
   "cell_type": "code",
   "execution_count": 28,
   "id": "7646055b-209d-4c9e-9567-831db9da220e",
   "metadata": {},
   "outputs": [
    {
     "data": {
      "text/plain": [
       "(7,)"
      ]
     },
     "execution_count": 28,
     "metadata": {},
     "output_type": "execute_result"
    }
   ],
   "source": [
    "d.shape"
   ]
  },
  {
   "cell_type": "code",
   "execution_count": 30,
   "id": "53ecf55d-912b-48c8-8537-b5b0ffafb98b",
   "metadata": {},
   "outputs": [
    {
     "ename": "AttributeError",
     "evalue": "'list' object has no attribute 'shape'",
     "output_type": "error",
     "traceback": [
      "\u001b[1;31m---------------------------------------------------------------------------\u001b[0m",
      "\u001b[1;31mAttributeError\u001b[0m                            Traceback (most recent call last)",
      "Cell \u001b[1;32mIn[30], line 1\u001b[0m\n\u001b[1;32m----> 1\u001b[0m j\u001b[38;5;241m.\u001b[39mshape\n",
      "\u001b[1;31mAttributeError\u001b[0m: 'list' object has no attribute 'shape'"
     ]
    }
   ],
   "source": [
    "#list doesn't have any shape\n",
    "j.shape"
   ]
  },
  {
   "cell_type": "code",
   "execution_count": 32,
   "id": "a3375078-8725-4fc7-9557-4335cb2732d1",
   "metadata": {},
   "outputs": [
    {
     "data": {
      "text/plain": [
       "1"
      ]
     },
     "execution_count": 32,
     "metadata": {},
     "output_type": "execute_result"
    }
   ],
   "source": [
    "d.ndim"
   ]
  },
  {
   "cell_type": "code",
   "execution_count": 88,
   "id": "dad73cd5-9dc4-48a6-8a84-4f1e749a2d12",
   "metadata": {},
   "outputs": [
    {
     "data": {
      "text/plain": [
       "<function ndarray.reshape>"
      ]
     },
     "execution_count": 88,
     "metadata": {},
     "output_type": "execute_result"
    }
   ],
   "source": [
    "d.reshape"
   ]
  },
  {
   "cell_type": "code",
   "execution_count": 36,
   "id": "4de03252-42f6-47a9-a608-c7f772298997",
   "metadata": {},
   "outputs": [
    {
     "data": {
      "text/plain": [
       "7"
      ]
     },
     "execution_count": 36,
     "metadata": {},
     "output_type": "execute_result"
    }
   ],
   "source": [
    "d.size"
   ]
  },
  {
   "cell_type": "code",
   "execution_count": 66,
   "id": "86f8a862-e8c6-41e0-99a6-66b1f2287d25",
   "metadata": {},
   "outputs": [
    {
     "data": {
      "text/plain": [
       "[[4, 6, 8, 9, 2],\n",
       " [5, 3, 5, 7, 5],\n",
       " [34, 67, 98, 94, 78],\n",
       " [23, 4, 5, 67, 78],\n",
       " [98, 45, 32, 34, 54]]"
      ]
     },
     "execution_count": 66,
     "metadata": {},
     "output_type": "execute_result"
    }
   ],
   "source": [
    "s=[[4,6,8,9,2],[5,3,5,7,5],[34,67,98,94,78],[23,4,5,67,78],[98,45,32,34,54]]\n",
    "s"
   ]
  },
  {
   "cell_type": "code",
   "execution_count": 68,
   "id": "429fc5db-4b5a-4822-ae36-1465608962d2",
   "metadata": {},
   "outputs": [
    {
     "data": {
      "text/plain": [
       "array([[ 4,  6,  8,  9,  2],\n",
       "       [ 5,  3,  5,  7,  5],\n",
       "       [34, 67, 98, 94, 78],\n",
       "       [23,  4,  5, 67, 78],\n",
       "       [98, 45, 32, 34, 54]])"
      ]
     },
     "execution_count": 68,
     "metadata": {},
     "output_type": "execute_result"
    }
   ],
   "source": [
    "arr1=np.array(s)\n",
    "arr1"
   ]
  },
  {
   "cell_type": "code",
   "execution_count": 70,
   "id": "b089be9c-cff1-483c-a663-3447692ee31a",
   "metadata": {},
   "outputs": [
    {
     "data": {
      "text/plain": [
       "list"
      ]
     },
     "execution_count": 70,
     "metadata": {},
     "output_type": "execute_result"
    }
   ],
   "source": [
    "type(s)"
   ]
  },
  {
   "cell_type": "code",
   "execution_count": 72,
   "id": "7953b04b-eb3e-442c-adb0-c692f3c712ff",
   "metadata": {},
   "outputs": [
    {
     "data": {
      "text/plain": [
       "numpy.ndarray"
      ]
     },
     "execution_count": 72,
     "metadata": {},
     "output_type": "execute_result"
    }
   ],
   "source": [
    "type(arr1)"
   ]
  },
  {
   "cell_type": "code",
   "execution_count": 74,
   "id": "1ce16b88-5151-41ac-abbc-12d623861916",
   "metadata": {},
   "outputs": [
    {
     "data": {
      "text/plain": [
       "(5, 5)"
      ]
     },
     "execution_count": 74,
     "metadata": {},
     "output_type": "execute_result"
    }
   ],
   "source": [
    "arr1.shape"
   ]
  },
  {
   "cell_type": "code",
   "execution_count": 76,
   "id": "a33ed409-875b-4ca4-b56a-1635f85931fd",
   "metadata": {},
   "outputs": [
    {
     "data": {
      "text/plain": [
       "25"
      ]
     },
     "execution_count": 76,
     "metadata": {},
     "output_type": "execute_result"
    }
   ],
   "source": [
    "arr1.size"
   ]
  },
  {
   "cell_type": "code",
   "execution_count": 78,
   "id": "b05ab0cb-8a22-4539-ac7f-eb6298c64cad",
   "metadata": {},
   "outputs": [
    {
     "data": {
      "text/plain": [
       "2"
      ]
     },
     "execution_count": 78,
     "metadata": {},
     "output_type": "execute_result"
    }
   ],
   "source": [
    "arr1.ndim"
   ]
  },
  {
   "cell_type": "code",
   "execution_count": 167,
   "id": "223edc46-d6dd-4c79-b72e-fee8979162b8",
   "metadata": {},
   "outputs": [
    {
     "data": {
      "text/plain": [
       "<function ndarray.reshape>"
      ]
     },
     "execution_count": 167,
     "metadata": {},
     "output_type": "execute_result"
    }
   ],
   "source": [
    "arr1.reshape"
   ]
  },
  {
   "cell_type": "code",
   "execution_count": 138,
   "id": "c345f5ed-122a-4bd8-b076-8000c8831df7",
   "metadata": {},
   "outputs": [
    {
     "data": {
      "text/plain": [
       "array([[2, 5, 4],\n",
       "       [2, 1, 3]])"
      ]
     },
     "execution_count": 138,
     "metadata": {},
     "output_type": "execute_result"
    }
   ],
   "source": [
    "h=d.reshape(2,3)\n",
    "h"
   ]
  },
  {
   "cell_type": "code",
   "execution_count": 142,
   "id": "1e0c3ae3-8d89-40d0-9a65-ec66e8e1ec83",
   "metadata": {},
   "outputs": [
    {
     "data": {
      "text/plain": [
       "6"
      ]
     },
     "execution_count": 142,
     "metadata": {},
     "output_type": "execute_result"
    }
   ],
   "source": [
    "h.size"
   ]
  },
  {
   "cell_type": "code",
   "execution_count": 144,
   "id": "9729b754-fa0e-49df-be12-8ccd37001643",
   "metadata": {},
   "outputs": [
    {
     "data": {
      "text/plain": [
       "(2, 3)"
      ]
     },
     "execution_count": 144,
     "metadata": {},
     "output_type": "execute_result"
    }
   ],
   "source": [
    "h.shape"
   ]
  },
  {
   "cell_type": "code",
   "execution_count": 146,
   "id": "0611b7b3-c27e-4b60-a522-0cd0339c3a96",
   "metadata": {},
   "outputs": [
    {
     "data": {
      "text/plain": [
       "2"
      ]
     },
     "execution_count": 146,
     "metadata": {},
     "output_type": "execute_result"
    }
   ],
   "source": [
    "h.ndim"
   ]
  },
  {
   "cell_type": "code",
   "execution_count": 148,
   "id": "bf94a472-0d37-41d1-b48b-bd2129fbf29a",
   "metadata": {},
   "outputs": [
    {
     "data": {
      "text/plain": [
       "array([[2, 5],\n",
       "       [4, 2],\n",
       "       [1, 3]])"
      ]
     },
     "execution_count": 148,
     "metadata": {},
     "output_type": "execute_result"
    }
   ],
   "source": [
    "w=h.reshape(3,2)\n",
    "w"
   ]
  },
  {
   "cell_type": "code",
   "execution_count": 150,
   "id": "7c6e3d6c-7557-45a2-a64d-ce34f6ab05dc",
   "metadata": {},
   "outputs": [
    {
     "data": {
      "text/plain": [
       "(3, 2)"
      ]
     },
     "execution_count": 150,
     "metadata": {},
     "output_type": "execute_result"
    }
   ],
   "source": [
    "w.shape\n"
   ]
  },
  {
   "cell_type": "code",
   "execution_count": 152,
   "id": "7f827723-8f4e-4cf1-a801-30e355fbeb20",
   "metadata": {},
   "outputs": [
    {
     "data": {
      "text/plain": [
       "6"
      ]
     },
     "execution_count": 152,
     "metadata": {},
     "output_type": "execute_result"
    }
   ],
   "source": [
    "w.size"
   ]
  },
  {
   "cell_type": "code",
   "execution_count": 154,
   "id": "5d94b562-add8-4abf-abca-0bab715e6d96",
   "metadata": {},
   "outputs": [
    {
     "data": {
      "text/plain": [
       "2"
      ]
     },
     "execution_count": 154,
     "metadata": {},
     "output_type": "execute_result"
    }
   ],
   "source": [
    "w.ndim"
   ]
  },
  {
   "cell_type": "code",
   "execution_count": 169,
   "id": "cf2a4463-3c58-4de4-bd7f-6ea155f95524",
   "metadata": {},
   "outputs": [
    {
     "data": {
      "text/plain": [
       "[4, 6, 7, 8, 9, 1, 2, 3, 11, 12]"
      ]
     },
     "execution_count": 169,
     "metadata": {},
     "output_type": "execute_result"
    }
   ],
   "source": [
    "m=[4,6,7,8,9,1,2,3,11,12]\n",
    "m"
   ]
  },
  {
   "cell_type": "code",
   "execution_count": 173,
   "id": "192bd976-65e8-46ef-af2e-4123f19fa366",
   "metadata": {},
   "outputs": [
    {
     "data": {
      "text/plain": [
       "range(3, 13)"
      ]
     },
     "execution_count": 173,
     "metadata": {},
     "output_type": "execute_result"
    }
   ],
   "source": [
    "range(3,13,)"
   ]
  },
  {
   "cell_type": "code",
   "execution_count": 175,
   "id": "b42af87d-a055-4269-a445-8e637a8e4339",
   "metadata": {},
   "outputs": [
    {
     "data": {
      "text/plain": [
       "[3, 5, 7, 9, 11]"
      ]
     },
     "execution_count": 175,
     "metadata": {},
     "output_type": "execute_result"
    }
   ],
   "source": [
    "list(range(3,13,2))"
   ]
  },
  {
   "cell_type": "code",
   "execution_count": 177,
   "id": "650d0fe4-a66e-4884-887d-8e3090500718",
   "metadata": {},
   "outputs": [
    {
     "data": {
      "text/plain": [
       "[3, 6, 9, 12]"
      ]
     },
     "execution_count": 177,
     "metadata": {},
     "output_type": "execute_result"
    }
   ],
   "source": [
    "list(range(3,13,3))"
   ]
  },
  {
   "cell_type": "code",
   "execution_count": 179,
   "id": "dd77d240-1735-43ae-a0da-c0ff07f1741a",
   "metadata": {},
   "outputs": [
    {
     "data": {
      "text/plain": [
       "range(5, 500)"
      ]
     },
     "execution_count": 179,
     "metadata": {},
     "output_type": "execute_result"
    }
   ],
   "source": [
    "range(5,500,)"
   ]
  },
  {
   "cell_type": "code",
   "execution_count": 185,
   "id": "8bd86fef-05d1-40e8-88b2-44c54ec33c8a",
   "metadata": {},
   "outputs": [
    {
     "data": {
      "text/plain": [
       "[5, 105, 205, 305, 405]"
      ]
     },
     "execution_count": 185,
     "metadata": {},
     "output_type": "execute_result"
    }
   ],
   "source": [
    "list(range(5,500,100))"
   ]
  },
  {
   "cell_type": "code",
   "execution_count": 197,
   "id": "dbe412f9-a20c-4dba-9a11-211bde25367d",
   "metadata": {},
   "outputs": [
    {
     "data": {
      "text/plain": [
       "(5, 115, 225, 335, 445)"
      ]
     },
     "execution_count": 197,
     "metadata": {},
     "output_type": "execute_result"
    }
   ],
   "source": [
    "tuple(range(5,520,110))"
   ]
  },
  {
   "cell_type": "code",
   "execution_count": 199,
   "id": "5aa79118-0e5e-44b9-aeea-67ec6a4de63c",
   "metadata": {},
   "outputs": [
    {
     "data": {
      "text/plain": [
       "[-10, -9, -8, -7, -6, -5, -4, -3, -2, -1, 0]"
      ]
     },
     "execution_count": 199,
     "metadata": {},
     "output_type": "execute_result"
    }
   ],
   "source": [
    "list(range(-10,1))"
   ]
  },
  {
   "cell_type": "code",
   "execution_count": 201,
   "id": "008001ed-aae0-422c-8f21-ecd3d99e2535",
   "metadata": {},
   "outputs": [
    {
     "data": {
      "text/plain": [
       "range(-1, -10)"
      ]
     },
     "execution_count": 201,
     "metadata": {},
     "output_type": "execute_result"
    }
   ],
   "source": [
    "range(-1,-10)"
   ]
  },
  {
   "cell_type": "code",
   "execution_count": 209,
   "id": "161e6345-be9f-4ae2-a07a-5a850d425c63",
   "metadata": {},
   "outputs": [
    {
     "data": {
      "text/plain": [
       "[-1, -2, -3, -4, -5, -6, -7, -8, -9]"
      ]
     },
     "execution_count": 209,
     "metadata": {},
     "output_type": "execute_result"
    }
   ],
   "source": [
    "list(range(-1,-10,-1))"
   ]
  },
  {
   "cell_type": "code",
   "execution_count": 211,
   "id": "d95948cb-abdb-4453-9278-3fd6c011dcec",
   "metadata": {},
   "outputs": [
    {
     "data": {
      "text/plain": [
       "[-1, -3, -5, -7, -9]"
      ]
     },
     "execution_count": 211,
     "metadata": {},
     "output_type": "execute_result"
    }
   ],
   "source": [
    "list(range(-1,-10,-2))"
   ]
  },
  {
   "cell_type": "code",
   "execution_count": 213,
   "id": "c46fd4ea-34ad-4832-9530-5f92bd4b4c92",
   "metadata": {},
   "outputs": [
    {
     "data": {
      "text/plain": [
       "[-1, -6]"
      ]
     },
     "execution_count": 213,
     "metadata": {},
     "output_type": "execute_result"
    }
   ],
   "source": [
    "list(range(-1,-10,-5))"
   ]
  },
  {
   "cell_type": "code",
   "execution_count": 215,
   "id": "de816fe8-e9da-46ec-b0f3-5bd0ab2d2ea8",
   "metadata": {},
   "outputs": [
    {
     "data": {
      "text/plain": [
       "[10, 9, 8, 7, 6, 5, 4, 3, 2, 1, 0, -1, -2, -3, -4, -5, -6, -7, -8, -9]"
      ]
     },
     "execution_count": 215,
     "metadata": {},
     "output_type": "execute_result"
    }
   ],
   "source": [
    "list(range(10,-10,-1))"
   ]
  },
  {
   "cell_type": "code",
   "execution_count": 217,
   "id": "675853bf-3a95-4b25-b1c8-55af6d23484e",
   "metadata": {},
   "outputs": [
    {
     "data": {
      "text/plain": [
       "[10, 7, 4, 1, -2, -5, -8]"
      ]
     },
     "execution_count": 217,
     "metadata": {},
     "output_type": "execute_result"
    }
   ],
   "source": [
    "list(range(10,-10,-3))"
   ]
  },
  {
   "cell_type": "code",
   "execution_count": 219,
   "id": "6d42c409-0e0d-4694-bbf0-af568548330e",
   "metadata": {},
   "outputs": [
    {
     "data": {
      "text/plain": [
       "[-1, -2, -3, -4, -5, -6, -7, -8, -9]"
      ]
     },
     "execution_count": 219,
     "metadata": {},
     "output_type": "execute_result"
    }
   ],
   "source": [
    "list(range(-1,-10,-1))"
   ]
  },
  {
   "cell_type": "code",
   "execution_count": 229,
   "id": "c53c4616-3aeb-4e0e-8aea-97dd44a481d6",
   "metadata": {},
   "outputs": [
    {
     "data": {
      "text/plain": [
       "[-1, -2, -3, -4, -5, -6, -7, -8, -9]"
      ]
     },
     "execution_count": 229,
     "metadata": {},
     "output_type": "execute_result"
    }
   ],
   "source": [
    "list(range(-1,-10,-1))"
   ]
  },
  {
   "cell_type": "code",
   "execution_count": 231,
   "id": "4038b2fa-7560-43b3-9eb6-04f4a95d0988",
   "metadata": {},
   "outputs": [
    {
     "data": {
      "text/plain": [
       "[2.5, 3, 3.5, 4, 4.5]"
      ]
     },
     "execution_count": 231,
     "metadata": {},
     "output_type": "execute_result"
    }
   ],
   "source": [
    "[2.5,3,3.5,4,4.5]"
   ]
  },
  {
   "cell_type": "code",
   "execution_count": 233,
   "id": "f2e12a80-0587-4338-9783-f1267e899af4",
   "metadata": {},
   "outputs": [
    {
     "ename": "TypeError",
     "evalue": "'float' object cannot be interpreted as an integer",
     "output_type": "error",
     "traceback": [
      "\u001b[1;31m---------------------------------------------------------------------------\u001b[0m",
      "\u001b[1;31mTypeError\u001b[0m                                 Traceback (most recent call last)",
      "Cell \u001b[1;32mIn[233], line 1\u001b[0m\n\u001b[1;32m----> 1\u001b[0m \u001b[38;5;28mrange\u001b[39m(\u001b[38;5;241m2.5\u001b[39m,\u001b[38;5;241m5\u001b[39m,\u001b[38;5;241m0.5\u001b[39m)\n",
      "\u001b[1;31mTypeError\u001b[0m: 'float' object cannot be interpreted as an integer"
     ]
    }
   ],
   "source": [
    "range(2.5,5,0.5)"
   ]
  },
  {
   "cell_type": "code",
   "execution_count": 235,
   "id": "2a0d09dd-5048-4eb6-b452-f08bccc21bfa",
   "metadata": {},
   "outputs": [
    {
     "data": {
      "text/plain": [
       "array([2.5, 3. , 3.5, 4. , 4.5])"
      ]
     },
     "execution_count": 235,
     "metadata": {},
     "output_type": "execute_result"
    }
   ],
   "source": [
    "#we can provide integer values and float values\n",
    "np.arange(2.5,5,0.5)"
   ]
  },
  {
   "cell_type": "code",
   "execution_count": 239,
   "id": "3fa59677-2c00-439c-be95-5100f6895045",
   "metadata": {},
   "outputs": [
    {
     "data": {
      "text/plain": [
       "(2.5, 5, 0.5)"
      ]
     },
     "execution_count": 239,
     "metadata": {},
     "output_type": "execute_result"
    }
   ],
   "source": [
    "2.5,5,0.5"
   ]
  },
  {
   "cell_type": "code",
   "execution_count": 243,
   "id": "b77501e9-46e5-4c0c-aa2a-340ffa0efb89",
   "metadata": {},
   "outputs": [
    {
     "data": {
      "text/plain": [
       "array([ 5, 10, 15, 20, 25, 30, 35, 40, 45])"
      ]
     },
     "execution_count": 243,
     "metadata": {},
     "output_type": "execute_result"
    }
   ],
   "source": [
    "np.arange(5,50,5)"
   ]
  },
  {
   "cell_type": "code",
   "execution_count": 247,
   "id": "abd73116-bf1c-4930-bcf8-96497cebe8a3",
   "metadata": {},
   "outputs": [
    {
     "name": "stdout",
     "output_type": "stream",
     "text": [
      "data 5\n",
      "data 10\n",
      "data 15\n",
      "data 20\n",
      "data 25\n",
      "data 30\n",
      "data 35\n",
      "data 40\n",
      "data 45\n"
     ]
    }
   ],
   "source": [
    "for i in range(5,50,5):\n",
    "    print(\"data\",i)"
   ]
  },
  {
   "cell_type": "code",
   "execution_count": 249,
   "id": "279f3bcf-68b7-407e-8190-af147cceb8d0",
   "metadata": {},
   "outputs": [
    {
     "data": {
      "text/plain": [
       "[5, 87, 98, 45, 56, 98, 43, 32, 12, 23]"
      ]
     },
     "execution_count": 249,
     "metadata": {},
     "output_type": "execute_result"
    }
   ],
   "source": [
    "j=[5,87,98,45,56,98,43,32,12,23]\n",
    "j"
   ]
  },
  {
   "cell_type": "code",
   "execution_count": 253,
   "id": "4a011754-e76c-4168-9c2e-d324cc91d278",
   "metadata": {},
   "outputs": [
    {
     "data": {
      "text/plain": [
       "[5, 6, 7, 8, 9, 10, 11, 12, 13, 14, 15, 16, 17, 18, 19, 20, 21, 22]"
      ]
     },
     "execution_count": 253,
     "metadata": {},
     "output_type": "execute_result"
    }
   ],
   "source": [
    "list(range(5,23))"
   ]
  },
  {
   "cell_type": "code",
   "execution_count": 255,
   "id": "59c43ec6-61c8-43a4-aa57-526aadea72cd",
   "metadata": {},
   "outputs": [
    {
     "data": {
      "text/plain": [
       "[5, 87, 98, 45, 56, 98, 43, 32, 12, 23]"
      ]
     },
     "execution_count": 255,
     "metadata": {},
     "output_type": "execute_result"
    }
   ],
   "source": [
    "j=[5,87,98,45,56,98,43,32,12,23]\n",
    "j"
   ]
  },
  {
   "cell_type": "code",
   "execution_count": 280,
   "id": "9c6e7c59-ad81-43d8-bfef-b402ba89f18b",
   "metadata": {},
   "outputs": [],
   "source": [
    "y=[]\n",
    "x=[]\n",
    "for i in range(len(j)):\n",
    "    if i % 2 == 0:\n",
    "        x.append(j[i])\n",
    "    else:\n",
    "        y.append(j[i])\n",
    "\n"
   ]
  },
  {
   "cell_type": "code",
   "execution_count": 282,
   "id": "3ebc1611-a3f6-454b-9b20-9a5f06500d51",
   "metadata": {},
   "outputs": [
    {
     "data": {
      "text/plain": [
       "[5, 98, 56, 43, 12]"
      ]
     },
     "execution_count": 282,
     "metadata": {},
     "output_type": "execute_result"
    }
   ],
   "source": [
    "x"
   ]
  },
  {
   "cell_type": "code",
   "execution_count": 284,
   "id": "a4d3b779-36df-4884-aa4f-43d1dc20609e",
   "metadata": {},
   "outputs": [
    {
     "data": {
      "text/plain": [
       "[87, 45, 98, 32, 23]"
      ]
     },
     "execution_count": 284,
     "metadata": {},
     "output_type": "execute_result"
    }
   ],
   "source": [
    "y"
   ]
  },
  {
   "cell_type": "code",
   "execution_count": null,
   "id": "8dca1729-f24f-41bf-b4b4-43bf2e8aff71",
   "metadata": {},
   "outputs": [],
   "source": []
  }
 ],
 "metadata": {
  "kernelspec": {
   "display_name": "Python [conda env:base] *",
   "language": "python",
   "name": "conda-base-py"
  },
  "language_info": {
   "codemirror_mode": {
    "name": "ipython",
    "version": 3
   },
   "file_extension": ".py",
   "mimetype": "text/x-python",
   "name": "python",
   "nbconvert_exporter": "python",
   "pygments_lexer": "ipython3",
   "version": "3.12.7"
  }
 },
 "nbformat": 4,
 "nbformat_minor": 5
}

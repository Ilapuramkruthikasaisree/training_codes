{
  "nbformat": 4,
  "nbformat_minor": 0,
  "metadata": {
    "colab": {
      "provenance": [],
      "authorship_tag": "ABX9TyMoQVMJ2KTArA6MQNdFZzjl",
      "include_colab_link": true
    },
    "kernelspec": {
      "name": "python3",
      "display_name": "Python 3"
    },
    "language_info": {
      "name": "python"
    }
  },
  "cells": [
    {
      "cell_type": "markdown",
      "metadata": {
        "id": "view-in-github",
        "colab_type": "text"
      },
      "source": [
        "<a href=\"https://colab.research.google.com/github/Ilapuramkruthikasaisree/training_codes/blob/main/trainng2_training.ipynb\" target=\"_parent\"><img src=\"https://colab.research.google.com/assets/colab-badge.svg\" alt=\"Open In Colab\"/></a>"
      ]
    },
    {
      "cell_type": "code",
      "execution_count": 1,
      "metadata": {
        "colab": {
          "base_uri": "https://localhost:8080/"
        },
        "id": "aEi5RgYDBoNH",
        "outputId": "4107c3a7-c80b-4650-8651-4633be939f42"
      },
      "outputs": [
        {
          "output_type": "stream",
          "name": "stdout",
          "text": [
            "[25, 6, 8]\n"
          ]
        }
      ],
      "source": [
        "mylist = [25,6,8]\n",
        "print(mylist)"
      ]
    },
    {
      "cell_type": "code",
      "source": [
        "x=['kruthika',567,True,False,234]\n",
        "x"
      ],
      "metadata": {
        "colab": {
          "base_uri": "https://localhost:8080/"
        },
        "id": "MMWp2P04DKrw",
        "outputId": "8b8c526c-cbb0-4bb6-a5b3-b5bb205b500a"
      },
      "execution_count": 2,
      "outputs": [
        {
          "output_type": "execute_result",
          "data": {
            "text/plain": [
              "['kruthika', 567, True, False, 234]"
            ]
          },
          "metadata": {},
          "execution_count": 2
        }
      ]
    }
  ]
}